{
  "nbformat": 4,
  "nbformat_minor": 0,
  "metadata": {
    "colab": {
      "provenance": [],
      "authorship_tag": "ABX9TyNrRNpTemwPo2QkhwNLMuxr",
      "include_colab_link": true
    },
    "kernelspec": {
      "name": "python3",
      "display_name": "Python 3"
    },
    "language_info": {
      "name": "python"
    }
  },
  "cells": [
    {
      "cell_type": "markdown",
      "metadata": {
        "id": "view-in-github",
        "colab_type": "text"
      },
      "source": [
        "<a href=\"https://colab.research.google.com/github/p-perrone/UiO_AdvancedRemoteSensing/blob/main/Project1_sketch.ipynb\" target=\"_parent\"><img src=\"https://colab.research.google.com/assets/colab-badge.svg\" alt=\"Open In Colab\"/></a>"
      ]
    },
    {
      "cell_type": "code",
      "execution_count": null,
      "metadata": {
        "id": "0YhiOJtWMaVF"
      },
      "outputs": [],
      "source": [
        "# Import packages\n",
        "import ee\n",
        "import geemap\n",
        "import numpy as np\n",
        "import matplotlib.pyplot as plt\n",
        "import pandas as pd\n",
        "import altair as alt\n",
        "import xarray as xr"
      ]
    },
    {
      "cell_type": "code",
      "source": [
        "# Run authentication\n",
        "ee.Authenticate()\n",
        "ee.Initialize(project='dulcet-iterator-470310-n0') # PUT YOUR API KEY (Project ID) HERE!"
      ],
      "metadata": {
        "id": "mqZv95IzMhNF"
      },
      "execution_count": null,
      "outputs": []
    },
    {
      "cell_type": "markdown",
      "source": [
        "# Part 1: loading data"
      ],
      "metadata": {
        "id": "wmR9r0ErrJHg"
      }
    },
    {
      "cell_type": "code",
      "source": [
        "# this is for getting rid of edges (usually artifacted)\n",
        "def mask_edge(image):\n",
        "  edge = image.lt(-30.0)\n",
        "  masked_image = image.mask().And(edge.Not())\n",
        "  return image.updateMask(masked_image)\n",
        "\n",
        "# testing geometry\n",
        "sea_ice_geom = ee.Geometry.Polygon(\n",
        "    [[[2501471, 14525773],\n",
        "      [2572610, 14525773],\n",
        "      [2572610, 14566293],\n",
        "      [2501471, 14566293],\n",
        "      [2501471, 14525773]]],\n",
        "    proj='EPSG:3857',\n",
        "    geodesic=False\n",
        ")\n"
      ],
      "metadata": {
        "id": "FvA8E1sMmci0"
      },
      "execution_count": null,
      "outputs": []
    },
    {
      "cell_type": "markdown",
      "metadata": {
        "id": "e6a5c961"
      },
      "source": [
        "# Part 2: Defining Olga Strait geometry and filtering data"
      ]
    },
    {
      "cell_type": "code",
      "metadata": {
        "id": "13541f55"
      },
      "source": [
        "# Define Olga Strait geometry (replace with actual coordinates)\n",
        "olgastretet_geom = ee.Geometry.Polygon(\n",
        "    [[[0, 80], [30, 80], [30, 78], [0, 78], [0, 80]]]\n",
        ")"
      ],
      "execution_count": null,
      "outputs": []
    },
    {
      "cell_type": "code",
      "metadata": {
        "id": "9729fc8d"
      },
      "source": [
        "for pol in polarizations:\n",
        "    olgastretet_s1_dict[pol] = (\n",
        "    ee.ImageCollection('COPERNICUS/S1_GRD')\n",
        "    .filterBounds(olgastretet_geom)\n",
        "    .filter(ee.Filter.listContains('transmitterReceiverPolarisation', pol))\n",
        "    .filter(ee.Filter.eq('instrumentMode', 'IW'))\n",
        "    .select(pol)\n",
        "    .map(mask_edge)\n",
        "    )"
      ],
      "execution_count": null,
      "outputs": []
    },
    {
      "cell_type": "code",
      "source": [
        "# Sentinel-1 collection for Svalbard\n",
        "svalbard_s1_dict = {}\n",
        "polarizations = ['HH', 'VV', 'HV', 'VH']\n",
        "\n",
        "for pol in polarizations:\n",
        "    svalbard_s1_dict[pol] = (\n",
        "    ee.ImageCollection('COPERNICUS/S1_GRD')\n",
        "    .filterBounds(svalbard_geom)\n",
        "    .filter(ee.Filter.listContains('transmitterReceiverPolarisation', pol))\n",
        "    .filter(ee.Filter.eq('instrumentMode', 'IW'))\n",
        "    .select(pol)\n",
        "    .map(mask_edge)\n",
        "    )\n"
      ],
      "metadata": {
        "id": "n1tVznY6q7bs"
      },
      "execution_count": null,
      "outputs": []
    },
    {
      "cell_type": "code",
      "source": [
        "svalbard_s1_pol = [\n",
        "svalbard_s1HH := svalbard_s1_dict['HH'],\n",
        "svalbard_s1VV := svalbard_s1_dict['VV'],\n",
        "svalbard_s1HV := svalbard_s1_dict['HV'],\n",
        "svalbard_s1VH := svalbard_s1_dict['VH']]"
      ],
      "metadata": {
        "id": "y-Dy-iIV0OtF"
      },
      "execution_count": null,
      "outputs": []
    },
    {
      "cell_type": "code",
      "source": [
        "# time ranges\n",
        "spring = ee.Filter.date('2025-03-01', '2025-04-20')\n",
        "late_spring = ee.Filter.date('2025-04-21', '2025-06-10')\n",
        "summer = ee.Filter.date('2025-06-11', '2025-08-31')\n",
        "\n",
        "seasons = [spring, late_spring, summer]"
      ],
      "metadata": {
        "id": "Fp3xnUtZoijf"
      },
      "execution_count": null,
      "outputs": []
    },
    {
      "cell_type": "code",
      "source": [
        "Map = geemap.Map()\n",
        "Map.centerObject(olgastretet_geom, zoom=6)\n",
        "Map.addLayer(svalbard_s1HH, {'min': -25, 'max': 5}, 'Sentinel-1') # display a certain range of dB\n",
        "Map"
      ],
      "metadata": {
        "id": "3HjuWYg8mr7l"
      },
      "execution_count": null,
      "outputs": []
    },
    {
      "cell_type": "code",
      "source": [
        "# building the Sentinel-1 polarizations-seasons dataframe\n",
        "season_names = ['spring', 'late_spring', 'summer']\n",
        "\n",
        "svalbard_s1 = pd.DataFrame(\n",
        "    index=polarizations,\n",
        "    columns=season_names,\n",
        ")\n",
        "\n",
        "for pol in polarizations:\n",
        "    for i, season_filter in enumerate(seasons):\n",
        "\n",
        "        filtered_collection = svalbard_s1_dict[pol].filter(season_filter)\n",
        "\n",
        "        svalbard_s1.loc[pol, season_names[i]] = filtered_collection\n",
        "\n",
        "display(svalbard_s1)"
      ],
      "metadata": {
        "id": "2Dj-jvAUi95U"
      },
      "execution_count": null,
      "outputs": []
    },
    {
      "cell_type": "code",
      "source": [
        "svalbard_s1_spring = [\n",
        "svalbard_s1HH_spring := svalbard_s1.loc['HH', 'spring'],\n",
        "svalbard_s1VV_spring := svalbard_s1.loc['VV', 'spring'],\n",
        "svalbard_s1HV_spring := svalbard_s1.loc['HV', 'spring'],\n",
        "svalbard_s1VH_spring := svalbard_s1.loc['VH', 'spring']]\n",
        "\n",
        "svalbard_s1_latespring = [\n",
        "svalbard_s1HH_late_spring := svalbard_s1.loc['HH', 'late_spring'],\n",
        "svalbard_s1VV_late_spring := svalbard_s1.loc['VV', 'late_spring'],\n",
        "svalbard_s1HV_late_spring := svalbard_s1.loc['HV', 'late_spring'],\n",
        "svalbard_s1VH_late_spring := svalbard_s1.loc['VH', 'late_spring']]\n",
        "\n",
        "svalbard_s1_summer = [\n",
        "svalbard_s1HH_summer := svalbard_s1.loc['HH', 'summer'],\n",
        "svalbard_s1VV_summer := svalbard_s1.loc['VV', 'summer'],\n",
        "svalbard_s1HV_summer := svalbard_s1.loc['HV', 'summer'],\n",
        "svalbard_s1VH_summer := svalbard_s1.loc['VH', 'summer']]"
      ],
      "metadata": {
        "id": "AXUlBWbnxE9H"
      },
      "execution_count": null,
      "outputs": []
    },
    {
      "cell_type": "code",
      "metadata": {
        "id": "1ec9b8cd"
      },
      "source": [
        "\"GEMINI HELPED\"\n",
        "\n",
        "def dates_with_data(collection, geometry):\n",
        "    \"\"\" Finds the dates in which layers of a collection exist in a given geometry.\n",
        "\n",
        "        Parameters:\n",
        "        :: collection = layers collection\n",
        "        :: geometry   = area of interest\n",
        "\n",
        "        Returns:\n",
        "        :: dates = list of dates with data (as 'yyyy-MM-ddTHH:mm:ss' strings)\n",
        "    \"\"\"\n",
        "\n",
        "    # filter the collection by geometry\n",
        "    filtered_collection = collection.filterBounds(geometry)\n",
        "\n",
        "    # get a list of all image dates in the filtered collection\n",
        "    # system:time_start is an attribute of every image (= starting time of aquisition)\n",
        "    image_dates = ee.List(filtered_collection.aggregate_array('system:time_start'))\n",
        "\n",
        "    # Check if there are any images\n",
        "    if image_dates.size().getInfo() > 0:\n",
        "        # Convert timestamps to dates and format them as strings\n",
        "        dates = image_dates.map(lambda time: ee.Date(time).format('yyyy-MM-dd HH:mm:ss'))\n",
        "        return dates.sort().getInfo()\n",
        "    else:\n",
        "        return None\n",
        "\n",
        "# Find the dates with data for HH polarization in the spring collection\n",
        "# Define the sea ice geometry using the provided diagonal vertices\n",
        "# Coordinates are in EPSG:3857\n",
        "sea_ice_geom = ee.Geometry.Polygon(\n",
        "    [[[2501471, 14525773],\n",
        "      [2572610, 14525773],\n",
        "      [2572610, 14566293],\n",
        "      [2501471, 14566293],\n",
        "      [2501471, 14525773]]],\n",
        "    proj='EPSG:3857',  # Specify the CRS here\n",
        "    geodesic=False # Set to False for projected coordinates\n",
        ")\n",
        "\n",
        "dates_spring_HH = dates_with_data(svalbard_s1HH_spring, sea_ice_geom)\n",
        "\n",
        "# Print the dates found\n",
        "if dates_spring_HH:\n",
        "    print(f\"Dates with HH data in spring: {dates_spring_HH}\")\n",
        "else:\n",
        "    print(\"No HH data found in spring for the specified geometry.\")"
      ],
      "execution_count": null,
      "outputs": []
    },
    {
      "cell_type": "code",
      "source": [
        "# Spring\n",
        "SpringMap = geemap.Map()\n",
        "SpringMap.centerObject(olgastretet_geom, zoom=6)\n",
        "\n",
        "# Add mosaic layers for each polarization\n",
        "for ic, pol in zip(svalbard_s1_spring, polarizations):\n",
        "    ic_mosaic = ic.mosaic()\n",
        "    SpringMap.addLayer(ic_mosaic, {'min': -25, 'max': 5}, f'{pol} Mosaic')\n",
        "\n",
        "# Get the first date with HH data\n",
        "ic_date_hh = svalbard_s1HH_spring.filterDate(ee.Date(1741187084000))\n",
        "SpringMap.addLayer(ic_date_hh, {'min': -25, 'max': 5}, f'HH on {first_date_hh}')\n",
        "\n",
        "\n",
        "SpringMap"
      ],
      "metadata": {
        "id": "iv0OfAKTo22w"
      },
      "execution_count": null,
      "outputs": []
    },
    {
      "cell_type": "code",
      "source": [
        "# Define the number of random points to generate initially (significantly more than needed)\n",
        "initial_num_points = 15\n",
        "\n",
        "# Generate random points within the bounds of the first Landsat 8 image\n",
        "random_points = ee.FeatureCollection.randomPoints(sea_ice_geom, initial_num_points)\n",
        "\n",
        "# Sample the image at the random points for all bands\n",
        "sampled_data = first_l8_image.sampleRegions(\n",
        "    collection=random_points,\n",
        "    scale=30 # Landsat spatial resolution is 30 meters\n",
        ")\n",
        "\n",
        "# Convert the sampled data to a pandas DataFrame\n",
        "sampled_df = geemap.ee_to_df(sampled_data)\n",
        "\n",
        "# Filter out rows with missing values (NaNs) that might result from sampling no-data areas\n",
        "sampled_df = sampled_df.dropna()\n",
        "\n",
        "# Display the first few rows of the DataFrame\n",
        "display(sampled_df)\n",
        "\n",
        "# Create a map and add the image and sampled points\n",
        "Map2 = geemap.Map()\n",
        "vis_params = {'bands': ['SR_B4', 'SR_B3', 'SR_B2'], 'min': 0, 'max': 65535, 'gamma': 1.5} # Example visualization parameters\n",
        "Map2.addLayer(first_l8_image, vis_params, 'First Landsat 8 Image')\n",
        "Map2.addLayer(random_points, {'color': '00FF00'}, 'Sampled Points')\n",
        "Map2.centerObject(first_l8_image.geometry(), 9) # Center map on the image\n",
        "Map2"
      ],
      "metadata": {
        "id": "i_YBuj4mzP1U"
      },
      "execution_count": null,
      "outputs": []
    },
    {
      "cell_type": "code",
      "source": [],
      "metadata": {
        "id": "uiDlEK7tmlmf"
      },
      "execution_count": null,
      "outputs": []
    }
  ]
}