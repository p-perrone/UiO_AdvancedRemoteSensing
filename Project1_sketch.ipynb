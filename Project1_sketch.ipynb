{
  "nbformat": 4,
  "nbformat_minor": 0,
  "metadata": {
    "colab": {
      "provenance": [],
      "authorship_tag": "ABX9TyPrZgUgz3FYBVDrTX8R9xrp",
      "include_colab_link": true
    },
    "kernelspec": {
      "name": "python3",
      "display_name": "Python 3"
    },
    "language_info": {
      "name": "python"
    }
  },
  "cells": [
    {
      "cell_type": "markdown",
      "metadata": {
        "id": "view-in-github",
        "colab_type": "text"
      },
      "source": [
        "<a href=\"https://colab.research.google.com/github/p-perrone/UiO_AdvancedRemoteSensing/blob/main/Project1_sketch.ipynb\" target=\"_parent\"><img src=\"https://colab.research.google.com/assets/colab-badge.svg\" alt=\"Open In Colab\"/></a>"
      ]
    },
    {
      "cell_type": "code",
      "execution_count": null,
      "metadata": {
        "id": "0YhiOJtWMaVF"
      },
      "outputs": [],
      "source": [
        "# Import packages\n",
        "import ee\n",
        "import geemap\n",
        "import numpy as np\n",
        "import matplotlib.pyplot as plt\n",
        "import pandas as pd\n",
        "import altair as alt\n",
        "import random"
      ]
    },
    {
      "cell_type": "code",
      "source": [
        "# Run authentication\n",
        "ee.Authenticate()\n",
        "ee.Initialize(project='dulcet-iterator-470310-n0') # PUT YOUR API KEY (Project ID) HERE!"
      ],
      "metadata": {
        "id": "mqZv95IzMhNF"
      },
      "execution_count": null,
      "outputs": []
    },
    {
      "cell_type": "markdown",
      "source": [
        "# Part 1: loading data"
      ],
      "metadata": {
        "id": "wmR9r0ErrJHg"
      }
    },
    {
      "cell_type": "code",
      "source": [
        "# this is for getting rid of edges (usually artifacted)\n",
        "def mask_edge(image):\n",
        "  edge = image.lt(-70.0)\n",
        "  masked_image = image.mask().And(edge.Not())\n",
        "  return image.updateMask(masked_image)\n",
        "\n",
        "# testing geometry\n",
        "svalbard_geom = ee.Geometry.Polygon(\n",
        "    [[[2501471, 14525773],\n",
        "      [2572610, 14525773],\n",
        "      [2572610, 14566293],\n",
        "      [2501471, 14566293],\n",
        "      [2501471, 14525773]]],\n",
        "    proj='EPSG:3857',\n",
        "    geodesic=False\n",
        ")\n"
      ],
      "metadata": {
        "id": "FvA8E1sMmci0"
      },
      "execution_count": null,
      "outputs": []
    },
    {
      "cell_type": "markdown",
      "metadata": {
        "id": "e6a5c961"
      },
      "source": [
        "# Part 2: Defining Olga Strait geometry and filtering data"
      ]
    },
    {
      "cell_type": "code",
      "metadata": {
        "id": "13541f55"
      },
      "source": [
        "# Define Olga Strait geometry (replace with actual coordinates)\n",
        "olgastretet_geom = ee.Geometry.Polygon(\n",
        "    [[[0, 80], [30, 80], [30, 78], [0, 78], [0, 80]]]\n",
        ")"
      ],
      "execution_count": null,
      "outputs": []
    },
    {
      "cell_type": "markdown",
      "source": [
        "Sentinel-1 does not operate in a single, fixed mode all the time. It switches between modes (like IW, EW, SM, WV) based on a pre-defined mission plan. These modes have different default polarization configurations.\n",
        "* Interferometric Wide Swath (IW): The most common mode over land. It is typically programmed to acquire in VV+VH (most common) or HH+HV.\n",
        "* Extra Wide Swath (EW): Used over large areas like oceans and sea ice. It is often programmed for HH+HV or sometimes VV+VH.\n",
        "* Wave Mode (WV): Used for sampling ocean waves. It is almost always VV only.\n",
        "* Stripmap Mode (SM): Offers higher resolution and can be programmed for single (HH or VV) or dual (HH+HV or VV+VH) polarization.\n",
        "\n",
        "For this work, based on existing literature, we focus on HH, HV, HH+HV with EW."
      ],
      "metadata": {
        "id": "7gqShu6s4dFI"
      }
    },
    {
      "cell_type": "code",
      "metadata": {
        "id": "9729fc8d"
      },
      "source": [
        "polarizations = ['HH', 'HV']\n",
        "svalbard_s1_dict = {}"
      ],
      "execution_count": null,
      "outputs": []
    },
    {
      "cell_type": "code",
      "source": [
        "\n",
        "# Sentinel-1 collection for Svalb\n",
        "\n",
        "for pol in polarizations:\n",
        "    svalbard_s1_dict[pol] = (\n",
        "\n",
        "    ee.ImageCollection('COPERNICUS/S1_GRD')\n",
        "    .filterBounds(svalbard_geom)\n",
        "    .filter(ee.Filter.listContains('transmitterReceiverPolarisation', pol))\n",
        "    .filter(ee.Filter.eq('instrumentMode', 'EW'))\n",
        "    .select(pol)\n",
        "    .map(mask_edge)\n",
        "    )\n",
        "\n",
        "    # https://www.sciencedirect.com/science/article/pii/S0034425724002116?via%3Dihub\n"
      ],
      "metadata": {
        "id": "n1tVznY6q7bs"
      },
      "execution_count": null,
      "outputs": []
    },
    {
      "cell_type": "code",
      "source": [
        "svalbard_s1_pol = [\n",
        "svalbard_s1HH := svalbard_s1_dict['HH'],\n",
        "svalbard_s1HV := svalbard_s1_dict['HV']]"
      ],
      "metadata": {
        "id": "y-Dy-iIV0OtF"
      },
      "execution_count": null,
      "outputs": []
    },
    {
      "cell_type": "code",
      "source": [
        "# time ranges\n",
        "spring = ee.Filter.date('2025-03-01', '2025-04-20')\n",
        "late_spring = ee.Filter.date('2025-04-21', '2025-06-10')\n",
        "summer = ee.Filter.date('2025-06-11', '2025-08-31')\n",
        "\n",
        "seasons = [spring, late_spring, summer]"
      ],
      "metadata": {
        "id": "Fp3xnUtZoijf"
      },
      "execution_count": null,
      "outputs": []
    },
    {
      "cell_type": "code",
      "source": [
        "Map = geemap.Map()\n",
        "Map.centerObject(olgastretet_geom, zoom=6)\n",
        "Map.addLayer(svalbard_s1HH, {'min': -25, 'max': 5}, 'Sentinel-1') # display a certain range of dB\n",
        "Map"
      ],
      "metadata": {
        "id": "3HjuWYg8mr7l"
      },
      "execution_count": null,
      "outputs": []
    },
    {
      "cell_type": "code",
      "source": [
        "# building the Sentinel-1 polarizations-seasons dataframe\n",
        "season_names = ['spring', 'late_spring', 'summer']\n",
        "\n",
        "svalbard_s1 = pd.DataFrame(\n",
        "    index=polarizations,\n",
        "    columns=season_names,\n",
        ")\n",
        "\n",
        "for pol in polarizations:\n",
        "    for i, season_filter in enumerate(seasons):\n",
        "\n",
        "        filtered_collection = svalbard_s1_dict[pol].filter(season_filter)\n",
        "\n",
        "        svalbard_s1.loc[pol, season_names[i]] = filtered_collection\n",
        "\n",
        "display(svalbard_s1)"
      ],
      "metadata": {
        "id": "2Dj-jvAUi95U"
      },
      "execution_count": null,
      "outputs": []
    },
    {
      "cell_type": "code",
      "source": [
        "svalbard_s1_spring = [\n",
        "svalbard_s1HH_spring := svalbard_s1.loc['HH', 'spring'],\n",
        "svalbard_s1HV_spring := svalbard_s1.loc['HV', 'spring']]\n",
        "\n",
        "svalbard_s1_latespring = [\n",
        "svalbard_s1HH_latespring := svalbard_s1.loc['HH', 'late_spring'],\n",
        "svalbard_s1HV_latespring := svalbard_s1.loc['HV', 'late_spring']]\n",
        "\n",
        "svalbard_s1_summer = [\n",
        "svalbard_s1HH_summer := svalbard_s1.loc['HH', 'summer'],\n",
        "svalbard_s1HV_summer := svalbard_s1.loc['HV', 'summer']]"
      ],
      "metadata": {
        "id": "AXUlBWbnxE9H"
      },
      "execution_count": null,
      "outputs": []
    },
    {
      "cell_type": "code",
      "source": [
        "s2_collection = ee.ImageCollection('COPERNICUS/S2_SR_HARMONIZED')"
      ],
      "metadata": {
        "id": "Js_6dJRJSIe_"
      },
      "execution_count": null,
      "outputs": []
    },
    {
      "cell_type": "code",
      "metadata": {
        "id": "nBxVUBtYSN5X"
      },
      "source": [
        "\"GEMINI HELPED\"\n",
        "\n",
        "def dates_with_data(collection, geometry):\n",
        "    \"\"\" Finds the dates in which layers of a collection exist in a given geometry.\n",
        "\n",
        "        Parameters:\n",
        "        :: collection = layers collection\n",
        "        :: geometry   = area of interest\n",
        "\n",
        "        Returns:\n",
        "        :: dates = list of dates with data (as 'yyyy-MM-ddTHH:mm:ss' strings)\n",
        "    \"\"\"\n",
        "\n",
        "    # filter the collection by geometry\n",
        "    filtered_collection = collection.filterBounds(geometry)\n",
        "\n",
        "    # get a list of all image dates in the filtered collection\n",
        "    # system:time_start is an attribute of every image (= starting time of aquisition)\n",
        "    image_dates = ee.List(filtered_collection.aggregate_array('system:time_start'))\n",
        "\n",
        "    # Check if there are any images\n",
        "    if image_dates.size().getInfo() > 0:\n",
        "        # Convert timestamps to dates and format them as strings\n",
        "        dates = image_dates.map(lambda time: ee.Date(time).format(None, 'GMT'))\n",
        "        return dates.sort().getInfo()\n",
        "    else:\n",
        "        return None\n",
        "\n",
        "# Find the dates with data for HH polarization in the spring collection\n",
        "# Define the sea ice geometry using the provided diagonal vertices\n",
        "# Coordinates are in EPSG:3857\n",
        "sea_ice_geom = ee.Geometry.Polygon(\n",
        "    [[[2501471, 14525773],\n",
        "      [2572610, 14525773],\n",
        "      [2572610, 14566293],\n",
        "      [2501471, 14566293],\n",
        "      [2501471, 14525773]]],\n",
        "    proj='EPSG:3857',  # Specify the CRS here\n",
        "    geodesic=False # Set to False for projected coordinates\n",
        ")\n",
        "\n",
        "dates_spring_HH = dates_with_data(svalbard_s1HH_spring, sea_ice_geom)\n",
        "dates_spring_HV = dates_with_data(svalbard_s1HV_spring, sea_ice_geom)\n",
        "\n",
        "dates_latespring = dates_with_data(svalbard_s1HH_latespring, sea_ice_geom)\n",
        "dates_summer = dates_with_data(svalbard_s1HH_summer, sea_ice_geom)\n",
        "\n",
        "# they are apparently the same\n",
        "print(dates_spring_HH == dates_spring_HV)\n",
        "\n",
        "dates_spring = dates_spring_HH\n",
        "# Print the dates found\n",
        "print(dates_spring)\n",
        "print(dates_latespring)"
      ],
      "execution_count": null,
      "outputs": []
    },
    {
      "cell_type": "markdown",
      "source": [
        "By using only HH and HV we make sure to have images of the same location always at the same time. Probably the acquisition method of S1 has always been EW in the last thre years (?)"
      ],
      "metadata": {
        "id": "gfAZRIhhSfdM"
      }
    },
    {
      "cell_type": "markdown",
      "source": [
        "### Visualizing S1 data for different seasons"
      ],
      "metadata": {
        "id": "MetS4ruXdMzc"
      }
    },
    {
      "cell_type": "code",
      "source": [
        "#@title Spring\n",
        "\n",
        "rnd_state = 122\n",
        "random.seed(rnd_state) #35\n",
        "# Spring\n",
        "SpringMap = geemap.Map()\n",
        "SpringMap.centerObject(svalbard_geom, zoom=6)\n",
        "spring_list = svalbard_s1HH_spring.toList(svalbard_s1HH_spring.size())\n",
        "spring_s1_mosaics = []\n",
        "spring_s1_day_mosaics = []\n",
        "\n",
        "cmaps = ['bone', 'viridis']\n",
        "\n",
        "if dates_spring:\n",
        "        rnd_date_str = random.choice(dates_spring)\n",
        "        rnd_date = ee.Date(rnd_date_str)\n",
        "\n",
        "else:\n",
        "        print(\"No HH data dates found in spring to select a random date from.\")\n",
        "\n",
        "date = ee.Date('2025-04-08')\n",
        "\n",
        "# adding some layers\n",
        "for cmap, ic, pol in zip(cmaps, svalbard_s1_spring, polarizations):\n",
        "    # adding season mosaics (whole spring)\n",
        "    ic_mosaic = ic.mosaic()\n",
        "    spring_s1_mosaics.append(ic_mosaic)\n",
        "    #SpringMap.addLayer(ic_mosaic, {'min': -25, 'max': 5}, f'{pol} Mosaic')\n",
        "\n",
        "    # adding random daily mosaics\n",
        "    # check if the date list is not empty\n",
        "\n",
        "    ic_date = ic.filterDate(date, date.advance(1, 'day')) # Filter for the whole day\n",
        "\n",
        "    # Mosaic the images for the selected date\n",
        "    ic_day_mosaic = ic_date.mosaic()\n",
        "    spring_s1_day_mosaics.append(ic_day_mosaic)\n",
        "\n",
        "    # Add the mosaicked image from the random date to the map\n",
        "    SpringMap.addLayer(ic_day_mosaic, {'min': -35, 'max': 10, 'palette': 'bone'}, f'{pol} on {date.format(\"YYYY-MM-dd\").getInfo()}')\n",
        "\n",
        "SpringMap"
      ],
      "metadata": {
        "id": "iv0OfAKTo22w",
        "collapsed": true
      },
      "execution_count": null,
      "outputs": []
    },
    {
      "cell_type": "code",
      "source": [
        "#@title Late Spring\n",
        "\n",
        "rnd_state = 56\n",
        "random.seed(rnd_state) #35\n",
        "# Late Spring\n",
        "LateSpringMap = geemap.Map() # Changed map variable name\n",
        "LateSpringMap.centerObject(svalbard_geom, zoom=6)\n",
        "# spring_list = svalbard_s1HH_spring.toList(svalbard_s1HH_spring.size()) # This line is not used for mapping\n",
        "late_spring_s1_mosaics = [] # Changed variable name\n",
        "late_spring_s1_day_mosaics = [] # Changed variable name\n",
        "\n",
        "cmaps = ['bone', 'viridis']\n",
        "\n",
        "# pick random date from late spring dates\n",
        "# Make sure dates_latespring has been populated by running the previous cell\n",
        "if dates_latespring: # Changed from dates_spring\n",
        "        rnd_date_str = random.choice(dates_latespring) # Changed from dates_spring\n",
        "        rnd_date = ee.Date(rnd_date_str)\n",
        "\n",
        "else:\n",
        "        print(\"No HH data dates found in late spring to select a random date from.\") # Updated message\n",
        "\n",
        "# adding some layers for late spring\n",
        "for cmap, ic, pol in zip(cmaps, svalbard_s1_latespring, polarizations): # Changed from svalbard_s1_spring\n",
        "    # adding season mosaics (whole late spring)\n",
        "    ic_mosaic = ic.mosaic()\n",
        "    late_spring_s1_mosaics.append(ic_mosaic) # Changed variable name\n",
        "    #LateSpringMap.addLayer(ic_mosaic, {'min': -25, 'max': 5}, f'{pol} Late Spring Mosaic') # Example of adding mosaic\n",
        "\n",
        "    # adding random daily mosaics\n",
        "    # check if the date list is not empty\n",
        "\n",
        "    ic_date = ic.filterDate(rnd_date, rnd_date.advance(1, 'day')) # Filter for the whole day\n",
        "\n",
        "    ic_day_mosaic = ee.Image(ic_date.mosaic())\n",
        "    late_spring_s1_day_mosaics.append(ic_day_mosaic)\n",
        "\n",
        "    # Add the mosaicked image from the random date to the map\n",
        "    LateSpringMap.addLayer(ic_day_mosaic, {'min': -45, 'max': 10, 'palette': 'bone', 'cmap': cmap}, f'{pol} on {rnd_date.format(\"YYYY-MM-dd\").getInfo()} (Late Spring)') # Updated layer name\n",
        "\n",
        "LateSpringMap # Display the new map variable"
      ],
      "metadata": {
        "id": "nHEuByyNCgmS"
      },
      "execution_count": null,
      "outputs": []
    },
    {
      "cell_type": "markdown",
      "source": [
        "**Summer**"
      ],
      "metadata": {
        "id": "muatVMFESDZE"
      }
    },
    {
      "cell_type": "code",
      "source": [
        "#@title Summmer\n",
        "\n",
        "rnd_state = 23\n",
        "random.seed(rnd_state) #35\n",
        "# Summer\n",
        "SummerMap = geemap.Map()\n",
        "SummerMap.centerObject(svalbard_geom, zoom=6)\n",
        "summer_s1_mosaics = [] # Changed variable name from late_spring_s1_mosaics\n",
        "summer_s1_day_mosaics = [] # Changed variable name from late_spring_s1_day_mosaics\n",
        "\n",
        "cmaps = ['bone', 'viridis']\n",
        "\n",
        "# pick random date from summer dates\n",
        "# Make sure dates_summer has been populated by running the previous cell\n",
        "if dates_summer: # Changed from dates_latespring\n",
        "        rnd_date_str = random.choice(dates_summer) # Changed from dates_latespring\n",
        "        rnd_date = ee.Date(rnd_date_str)\n",
        "\n",
        "else:\n",
        "        print(\"No HH data dates found in summer to select a random date from.\") # Updated message\n",
        "\n",
        "date = ee.Date('2025-08-28')\n",
        "# adding some layers for summer\n",
        "for cmap, ic, pol in zip(cmaps, svalbard_s1_summer, polarizations): # Changed from svalbard_s1_latespring\n",
        "    # adding season mosaics (whole summer)\n",
        "    ic_mosaic = ic.mosaic()\n",
        "    summer_s1_mosaics.append(ic_mosaic) # Changed variable name\n",
        "    #SummerMap.addLayer(ic_mosaic, {'min': -25, 'max': 5}, f'{pol} Summer Mosaic') # Example of adding mosaic\n",
        "\n",
        "    # adding random daily mosaics\n",
        "    # check if the date list is not empty\n",
        "\n",
        "\n",
        "    ic_date = ic.filterDate(date, date.advance(1, 'day')) # Filter for the whole day\n",
        "\n",
        "    # Mosaic the images for the selected date\n",
        "    ic_day_mosaic = ic_date.mosaic()\n",
        "    summer_s1_day_mosaics.append(ic_day_mosaic) # Changed variable name\n",
        "\n",
        "    # Add the mosaicked image from the random date to the map\n",
        "    SummerMap.addLayer(ic_day_mosaic, {'min': -40, 'max': 10, 'palette': 'bone', 'cmap': cmap}, f'{pol} on {date.format(\"YYYY-MM-dd\").getInfo()} (Summer)') # Updated layer name\n",
        "\n",
        "SummerMap # Display the new map variable"
      ],
      "metadata": {
        "cellView": "form",
        "collapsed": true,
        "id": "3vxfqnlsFj4P"
      },
      "execution_count": null,
      "outputs": []
    },
    {
      "cell_type": "markdown",
      "source": [
        "The following cell is for defining all the different samples geometries"
      ],
      "metadata": {
        "id": "dR-6kBFFSJRt"
      }
    },
    {
      "cell_type": "code",
      "source": [
        "# since I have already defined the polygon this cell is unuseful, but I will keep it just in case I'll need a new polygon\n",
        "drawn_features = LateSpringMap.draw_last_feature\n",
        "drawn_rectangle = drawn_features\n",
        "\n",
        "if drawn_rectangle:\n",
        "    # Get the geometry of the feature\n",
        "    rectangle_geometry = drawn_rectangle.geometry()\n",
        "\n",
        "    # Get the coordinates of the geometry as a Python object\n",
        "    coordinates = rectangle_geometry.getInfo()['coordinates']\n",
        "\n",
        "    # Print the coordinates\n",
        "    print(\"Coordinates of the drawn rectangle:\")\n",
        "    print(coordinates)\n",
        "else:\n",
        "    print(\"Cannot extract coordinates as no rectangle feature is available.\")"
      ],
      "metadata": {
        "id": "uXiBShGdYl7q"
      },
      "execution_count": null,
      "outputs": []
    },
    {
      "cell_type": "code",
      "source": [
        "# this is a good area to see a bit how the radar performs with sea ice. In the selected date\n",
        "# (seed = 35, 2025-04-12), there is some bare ice, different ice textures, snow on ice and deep sea water\n",
        "test_geom = ee.Geometry.Polygon([[36.683029, 80.070371], [36.683029, 80.390982], [40.747361, 80.390982], [40.747361, 80.070371], [36.683029, 80.070371]])\n",
        "\n",
        "# define samples for specific features\n",
        "\n",
        "# LateSpringMap - 2025-06-03 - a bit of eveything. Let's stick to a very general sampling of sea ice without ice types discrimination, for now\n",
        "samplegeoms = [\n",
        "    calm_water_samplegeom := ee.Geometry.Polygon([[13.978609, 79.87647], [13.978609, 79.961325], [14.768133, 79.961325], [14.768133, 79.87647], [13.978609, 79.87647]]),\n",
        "    wavy_water_samplegeom := ee.Geometry.Polygon([[17.067172, 80.006467], [17.067172, 80.04951], [17.488709, 80.04951], [17.488709, 80.006467], [17.067172, 80.006467]]),\n",
        "    seaice_samplegeom := ee.Geometry.Polygon([[21.419154, 80.414107], [21.419154, 80.47452], [21.935434, 80.47452], [21.935434, 80.414107], [21.419154, 80.414107]])\n",
        "    ]"
      ],
      "metadata": {
        "id": "K4BcJ9VZpkFf"
      },
      "execution_count": null,
      "outputs": []
    },
    {
      "cell_type": "code",
      "metadata": {
        "cellView": "form",
        "collapsed": true,
        "id": "e1f0c8d4"
      },
      "source": [
        "#@title Sampling on random points\n",
        "\n",
        "# Define the number of random points to generate initially (significantly more than needed)\n",
        "initial_num_points = 10000\n",
        "\n",
        "# Generate random points within the bounds of the sea ice geometry\n",
        "random_points = ee.FeatureCollection.randomPoints(test_geom, initial_num_points,seed=42)\n",
        "SpringMap.addLayer(random_points, {'color': '00FF00'}, 'Sampled Points', opacity=0.2)\n",
        "SpringMap.addLayer(test_geom,\n",
        "    vis_params={\"color\": \"red\"},\n",
        "    name=\"Sampling Area\",\n",
        "    opacity=0.2)\n",
        "#\"----------------\"\n",
        "random_points_df = geemap.ee_to_df(random_points)\n",
        "\n",
        "def get_coordinates_from_fc(feature_collection):\n",
        "    \"\"\"Extract coordinates from a FeatureCollection\"\"\"\n",
        "    coordinates = feature_collection.geometry().coordinates().getInfo()\n",
        "    return coordinates\n",
        "\n",
        "# Get all coordinates\n",
        "coords = get_coordinates_from_fc(random_points)\n",
        "\n",
        "# Convert to list of [lon, lat] pairs\n",
        "lon_lat_pairs = [[coord[0], coord[1]] for coord in coords]\n",
        "coords_df = pd.DataFrame(coords)\n",
        "coords_df.head()\n",
        "\n",
        "#SAMPLING\n",
        "\n",
        "sampled_s1_spring = []\n",
        "for image in spring_s1_day_mosaics:\n",
        "    sampled = image.sampleRegions(\n",
        "      collection=random_points,\n",
        "      scale=10,\n",
        "      geometries=True\n",
        "      )\n",
        "    sampled_s1_spring.append(sampled)\n",
        "\n",
        "print(sampled_s1_spring)\n",
        "\n",
        "sampleHH_df = geemap.ee_to_df(sampled_s1_spring[0])\n",
        "sampleHV_df = geemap.ee_to_df(sampled_s1_spring[1])\n",
        "sampled_s1_df = pd.concat([sampleHH_df, sampleHV_df], axis=1)\n",
        "\n",
        "plt.scatter(sampled_s1_df['HH'], sampled_s1_df['HV'], alpha=0.1)\n",
        "plt.xlim(-50, 0)\n",
        "plt.ylim(-50, 0)\n",
        "plt.xlabel('HH')\n",
        "plt.ylabel('HV')"
      ],
      "execution_count": null,
      "outputs": []
    },
    {
      "cell_type": "code",
      "source": [
        "#@title Sampling rectangles\n",
        "\n",
        "sampleimages = late_spring_s1_day_mosaics\n",
        "sample_df = pd.DataFrame(\n",
        "    index=range(len(samplegeoms)),\n",
        "    columns=range(len(sampleimages))\n",
        ")\n",
        "\n",
        "for j, image in enumerate(sampleimages):\n",
        "    for i, geom in enumerate(samplegeoms):\n",
        "        sampled = image.sampleRectangle(\n",
        "            region=geom,\n",
        "        )\n",
        "        sample_df.loc[i, j] = sampled\n",
        "\n",
        "sample_df"
      ],
      "metadata": {
        "id": "D7-1N4dOaFFM"
      },
      "execution_count": null,
      "outputs": []
    },
    {
      "cell_type": "code",
      "source": [
        "sample_df.iloc[0,0]"
      ],
      "metadata": {
        "id": "-gO78is3gtIq"
      },
      "execution_count": null,
      "outputs": []
    },
    {
      "cell_type": "code",
      "source": [
        "from sklearn.cluster import KMeans, DBSCAN\n",
        "from sklearn.mixture import GaussianMixture\n",
        "from sklearn.preprocessing import StandardScaler\n",
        "\n",
        "#sampled_s1_df_s = StandardScaler().fit_transform(sampled_s1_df.dropna())\n",
        "\n",
        "common_params = {\n",
        "    \"n_init\": \"auto\",\n",
        "    \"random_state\": 67,\n",
        "    \"max_iter\" : 1000\n",
        "}\n",
        "\n",
        "sse_kmeans = []\n",
        "for k in range(1, 11):\n",
        "    kmeans = KMeans(n_clusters=k,\n",
        "                    **common_params)\n",
        "    kmeans.fit(sampled_s1_df.dropna())\n",
        "    sse_kmeans.append(kmeans.inertia_)\n",
        "\n",
        "#visualize results\n",
        "plt.plot(range(1, 11), sse_kmeans, label=\"K-Means\")\n",
        "plt.xticks(range(1, 11))\n",
        "plt.xlabel(\"Number of Clusters\")\n",
        "plt.ylabel(\"SSE\")\n",
        "plt.show()"
      ],
      "metadata": {
        "id": "loygDLbigjpM"
      },
      "execution_count": null,
      "outputs": []
    },
    {
      "cell_type": "code",
      "source": [],
      "metadata": {
        "id": "ITtq48fbP3DN"
      },
      "execution_count": null,
      "outputs": []
    },
    {
      "cell_type": "code",
      "source": [
        "kmeans3 = KMeans(n_clusters=3,\n",
        "                    **common_params)\n",
        "kmeans3.fit(sampled_s1_df.dropna())\n",
        "len(kmeans3.labels_)\n",
        "clusters = pd.Series(kmeans3.labels_)\n",
        "\n",
        "dbs = DBSCAN(eps=0.5, min_samples=5)\n",
        "dbs.fit(sampled_s1_df.dropna())\n",
        "dbscans = pd.Series(dbs.labels_)\n",
        "\n",
        "gmm = GaussianMixture(n_components=5)\n",
        "gmm.fit(sampled_s1_df.dropna())\n",
        "gmm_labels = pd.Series(gmm.labels_)"
      ],
      "metadata": {
        "id": "Zz65lW6ph82S"
      },
      "execution_count": null,
      "outputs": []
    },
    {
      "cell_type": "code",
      "source": [
        "# Rename columns in coords_df for clarity\n",
        "coords_df_renamed = coords_df.rename(columns={0: \"longitude\", 1: \"latitude\"})\n",
        "clusters.name = \"cluster\"\n",
        "dbscans.name = \"dbscans\"\n",
        "sampled_data_with_clusters = pd.concat([sampled_s1_df, clusters, dbscans], axis=1)\n",
        "\n",
        "# Merge the coordinates DataFrame with the sampled data and clusters DataFrame\n",
        "# Merge based on the index\n",
        "sampled_s1_dfclass = pd.merge(\n",
        "    coords_df_renamed,\n",
        "    sampled_data_with_clusters,\n",
        "    left_index=True,\n",
        "    right_index=True,\n",
        "    how='left' # Use a left merge to keep all original points from coords_df\n",
        ").dropna()\n",
        "\n",
        "# Display the resulting DataFrame\n",
        "sampled_s1_dfclass"
      ],
      "metadata": {
        "id": "AmaXNRDuPr53"
      },
      "execution_count": null,
      "outputs": []
    },
    {
      "cell_type": "code",
      "source": [
        "# Drop rows with NaN values in 'HH', 'HV', or 'cluster' before plotting\n",
        "# This ensures only points with valid data and cluster assignments are plotted\n",
        "plot_df = sampled_s1_dfclass.dropna(subset=['HH', 'HV', 'cluster']).copy()\n",
        "\n",
        "# Create the scatter plot\n",
        "plt.figure(figsize=(10, 8))\n",
        "\n",
        "# Use the 'cluster' column for coloring with a colormap\n",
        "scatter = plt.scatter(\n",
        "    plot_df['HH'],\n",
        "    plot_df['HV'],\n",
        "    c=plot_df['cluster'],\n",
        "    cmap='viridis',  # Use a colormap (you can choose a different one)\n",
        "    s=10,           # Marker size\n",
        "    alpha=0.5,      # Transparency\n",
        ")\n",
        "\n",
        "plt.xlim(-50, 0)\n",
        "plt.ylim(-50, 0)\n",
        "plt.xlabel('HH Backscatter (dB)')\n",
        "plt.ylabel('HV Backscatter (dB)')\n",
        "plt.title('Scatter Plot of HH vs HV Colored by K-means Cluster')\n",
        "plt.grid(True)\n",
        "\n",
        "# Add a colorbar to show the mapping from color to cluster label\n",
        "cbar = plt.colorbar(scatter)\n",
        "cbar.set_label('Cluster Label')\n",
        "\n",
        "# Set the ticks of the colorbar to correspond to the cluster labels\n",
        "# Assuming cluster labels are integers from 0 to n_clusters - 1\n",
        "num_clusters = int(plot_df['cluster'].max()) + 1 # Get the maximum cluster label and add 1 for the count\n",
        "cbar.set_ticks(np.arange(num_clusters))\n",
        "cbar.set_ticklabels([f'Cluster {i}' for i in range(num_clusters)])\n",
        "\n",
        "\n",
        "plt.show()"
      ],
      "metadata": {
        "id": "pUTYWMKhIZmE"
      },
      "execution_count": null,
      "outputs": []
    },
    {
      "cell_type": "code",
      "source": [
        "# Drop rows with NaN values in 'HH', 'HV', or 'cluster' before plotting\n",
        "# This ensures only points with valid data and cluster assignments are plotted\n",
        "plot_df = sampled_s1_dfclass.dropna(subset=['HH', 'HV', 'dbscans']).copy()\n",
        "\n",
        "# Create the scatter plot\n",
        "scatter = plt.scatter(\n",
        "    plot_df['HH'],\n",
        "    plot_df['HV'],\n",
        "    c=plot_df['dbscans'],\n",
        "    cmap='viridis',  # Use a colormap (you can choose a different one)\n",
        "    s=10,           # Marker size\n",
        "    alpha=0.5,      # Transparency\n",
        ")\n",
        "\n",
        "plt.xlim(-50, 0)\n",
        "plt.ylim(-50, 0)\n",
        "plt.xlabel('HH (dB)')\n",
        "plt.ylabel('HV (dB)')\n",
        "plt.title('DBSCAN')\n",
        "plt.grid(True)\n",
        "\n",
        "# Add a colorbar to show the mapping from color to cluster label\n",
        "cbar = plt.colorbar(scatter)\n",
        "cbar.set_label('Cluster Label')"
      ],
      "metadata": {
        "id": "LlAhxdu1XW3c"
      },
      "execution_count": null,
      "outputs": []
    },
    {
      "cell_type": "code",
      "metadata": {
        "id": "32c10b62"
      },
      "source": [
        "\n",
        "\"\"\"GEMINI HELPED - plotting on map points from dataframe\"\"\"\n",
        "sampled_fc = geemap.df_to_ee(\n",
        "    sampled_s1_dfclass, # Use the cleaned and selected DataFrame\n",
        "    csv_columns=['HH', 'HV', 'clusters'], # Include the new 'cluster' column\n",
        "    # Remove x and y arguments as columns are now named 'longitude' and 'latitude'\n",
        "    geometries=True\n",
        ")\n",
        "\n",
        "cluster_colors = ['FF0000', '00FF00', '0000FF']  # Red, Green, Blue\n",
        "\n",
        "# Define a color palette for the clusters\n",
        "# You can customize these colors\n",
        "clusters_image = sampled_fc.reduceToImage(\n",
        "    properties=['clusters'],\n",
        "    reducer=ee.Reducer.first()\n",
        ").visualize(\n",
        "    palette=cluster_colors\n",
        ")\n",
        "\n",
        "# Add to map\n",
        "SpringMap.addLayer(\n",
        "    clusters_image,\n",
        "    {},\n",
        "    'K-means Clusters'\n",
        ")\n",
        "\n",
        "# Center the map on the points\n",
        "SpringMap.centerObject(sampled_fc, zoom=9)\n",
        "\n",
        "SpringMap"
      ],
      "execution_count": null,
      "outputs": []
    },
    {
      "cell_type": "code",
      "source": [
        "svalbard_lsib = ee.FeatureCollection(\"USDOS/LSIB_SIMPLE/2017\") \\\n",
        "    .filter(ee.Filter.eq('country_na', 'Svalbard'))\n",
        "\n",
        "print(\"Svalbard from LSIB:\", svalbard_lsib.size().getInfo())\n",
        "\n",
        "\n",
        "# Add to map\n",
        "SpringMap = geemap.Map()\n",
        "SpringMap.addLayer(svalbard_lsib, {'color': 'blue'}, 'Svalbard GAUL')\n",
        "SpringMap.centerObject(svalbard_lsib, 6)\n",
        "SpringMap"
      ],
      "metadata": {
        "id": "Kb5yPKZDgVSw"
      },
      "execution_count": null,
      "outputs": []
    },
    {
      "cell_type": "markdown",
      "source": [],
      "metadata": {
        "id": "VJCt89j4gpdH"
      }
    },
    {
      "cell_type": "code",
      "source": [
        "\n"
      ],
      "metadata": {
        "id": "yyvUMpZyzIeK"
      },
      "execution_count": null,
      "outputs": []
    }
  ]
}